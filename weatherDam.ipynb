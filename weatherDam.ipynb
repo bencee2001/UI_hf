{
 "cells": [
  {
   "metadata": {
    "ExecuteTime": {
     "end_time": "2025-05-17T20:50:49.486056Z",
     "start_time": "2025-05-17T20:50:45.318359Z"
    }
   },
   "cell_type": "code",
   "source": [
    "import pyodbc\n",
    "from sqlalchemy import create_engine\n",
    "import pandas as pd\n",
    "\n",
    "conn_str = r'DRIVER={ODBC Driver 17 for SQL Server};SERVER=(localdb)\\MSSQLLocalDB;DATABASE=WeatherDamSM5P0J;Trusted_Connection=yes;'\n",
    "\n",
    "engine = create_engine(\n",
    "    'mssql+pyodbc://localhost/WeatherDamSM5P0J?driver=ODBC+Driver+17+for+SQL+Server&trusted_connection=yes'\n",
    ")"
   ],
   "id": "c585db135cff2439",
   "outputs": [],
   "execution_count": 1
  },
  {
   "metadata": {
    "ExecuteTime": {
     "end_time": "2025-05-17T20:52:09.838958Z",
     "start_time": "2025-05-17T20:52:09.680272Z"
    }
   },
   "cell_type": "code",
   "source": [
    "conn = pyodbc.connect(conn_str)\n",
    "cursor = conn.cursor()\n",
    "\n",
    "# Execute your SQL query\n",
    "query = \"SELECT * FROM EntoseDamPrice\"\n",
    "cursor.execute(query)\n",
    "\n",
    "# Fetch all rows\n",
    "damDatas = cursor.fetchall()\n",
    "\n",
    "# Get column names from cursor\n",
    "columnsDam = [desc[0] for desc in cursor.description]\n",
    "\n",
    "# Close the cursor and connection\n",
    "cursor.close()\n",
    "conn.close()\n",
    "\n",
    "conn = pyodbc.connect(conn_str)\n",
    "cursor = conn.cursor()\n",
    "\n",
    "# Execute your SQL query\n",
    "query = \"SELECT * FROM OMAvgWeather\"\n",
    "cursor.execute(query)\n",
    "\n",
    "# Fetch all rows\n",
    "weatherDatas = cursor.fetchall()\n",
    "\n",
    "# Get column names from cursor\n",
    "columnsWeather = [desc[0] for desc in cursor.description]\n",
    "\n",
    "# Close the cursor and connection\n",
    "cursor.close()\n",
    "conn.close()"
   ],
   "id": "3ed938a8ec5fc0de",
   "outputs": [],
   "execution_count": 2
  },
  {
   "metadata": {},
   "cell_type": "code",
   "outputs": [],
   "execution_count": null,
   "source": "",
   "id": "4e8a31a93298c255"
  },
  {
   "metadata": {
    "ExecuteTime": {
     "end_time": "2025-05-17T20:52:12.741406Z",
     "start_time": "2025-05-17T20:52:12.725156Z"
    }
   },
   "cell_type": "code",
   "source": [
    "damDatas_t = [tuple(r) for r in damDatas]\n",
    "weatherDatas_t = [tuple(r) for r in weatherDatas]\n",
    "print(type(damDatas))\n",
    "print(type(damDatas[0]))\n",
    "print(type(damDatas[0][0]))\n",
    "print(type(damDatas[0][1]))\n",
    "\n",
    "print(type(damDatas_t))\n",
    "print(type(damDatas_t[0]))\n",
    "print(type(damDatas_t[0][0]))\n",
    "print(type(damDatas_t[0][1]))"
   ],
   "id": "ccd20c9152ba368b",
   "outputs": [
    {
     "name": "stdout",
     "output_type": "stream",
     "text": [
      "<class 'list'>\n",
      "<class 'pyodbc.Row'>\n",
      "<class 'datetime.datetime'>\n",
      "<class 'decimal.Decimal'>\n",
      "<class 'list'>\n",
      "<class 'tuple'>\n",
      "<class 'datetime.datetime'>\n",
      "<class 'decimal.Decimal'>\n"
     ]
    }
   ],
   "execution_count": 3
  },
  {
   "metadata": {
    "ExecuteTime": {
     "end_time": "2025-05-16T18:39:59.299294Z",
     "start_time": "2025-05-16T18:39:59.287402Z"
    }
   },
   "cell_type": "code",
   "source": [
    "df_d = pd.DataFrame(damDatas_t, columns=columnsDam)\n",
    "df_w = pd.DataFrame(weatherDatas_t, columns=columnsWeather)"
   ],
   "id": "454dcf8fab44d41e",
   "outputs": [],
   "execution_count": 4
  },
  {
   "metadata": {
    "ExecuteTime": {
     "end_time": "2025-05-16T18:40:01.305120Z",
     "start_time": "2025-05-16T18:40:01.285852Z"
    }
   },
   "cell_type": "code",
   "source": [
    "df_d['datetime'] = pd.to_datetime(df_d['datetime'])\n",
    "df_w['datetime'] = pd.to_datetime(df_w['datetime'])\n",
    "\n",
    "df = pd.merge(df_d, df_w, on='datetime', how='inner')"
   ],
   "id": "e0057102cb1ad35a",
   "outputs": [],
   "execution_count": 5
  },
  {
   "metadata": {
    "ExecuteTime": {
     "end_time": "2025-05-15T14:05:55.166239Z",
     "start_time": "2025-05-15T14:05:55.147173Z"
    }
   },
   "cell_type": "code",
   "source": "df",
   "id": "99a7b1f7e736df92",
   "outputs": [
    {
     "data": {
      "text/plain": [
       "                datetime dam_price temperature  humidity\n",
       "0    2025-02-23 00:00:00     29.96     -0.3458        56\n",
       "1    2025-02-23 01:00:00     30.07     -0.4666        56\n",
       "2    2025-02-23 02:00:00     29.94     -0.5875        56\n",
       "3    2025-02-23 03:00:00     29.94     -0.8083        57\n",
       "4    2025-02-23 04:00:00     29.98     -0.9916        57\n",
       "...                  ...       ...         ...       ...\n",
       "1674 2025-05-03 19:00:00     37.02     22.2541        54\n",
       "1675 2025-05-03 20:00:00     41.75     21.2708        57\n",
       "1676 2025-05-03 21:00:00     37.85     20.2083        59\n",
       "1677 2025-05-03 22:00:00     33.57     19.4999        60\n",
       "1678 2025-05-03 23:00:00     32.25     19.0416        61\n",
       "\n",
       "[1679 rows x 4 columns]"
      ],
      "text/html": [
       "<div>\n",
       "<style scoped>\n",
       "    .dataframe tbody tr th:only-of-type {\n",
       "        vertical-align: middle;\n",
       "    }\n",
       "\n",
       "    .dataframe tbody tr th {\n",
       "        vertical-align: top;\n",
       "    }\n",
       "\n",
       "    .dataframe thead th {\n",
       "        text-align: right;\n",
       "    }\n",
       "</style>\n",
       "<table border=\"1\" class=\"dataframe\">\n",
       "  <thead>\n",
       "    <tr style=\"text-align: right;\">\n",
       "      <th></th>\n",
       "      <th>datetime</th>\n",
       "      <th>dam_price</th>\n",
       "      <th>temperature</th>\n",
       "      <th>humidity</th>\n",
       "    </tr>\n",
       "  </thead>\n",
       "  <tbody>\n",
       "    <tr>\n",
       "      <th>0</th>\n",
       "      <td>2025-02-23 00:00:00</td>\n",
       "      <td>29.96</td>\n",
       "      <td>-0.3458</td>\n",
       "      <td>56</td>\n",
       "    </tr>\n",
       "    <tr>\n",
       "      <th>1</th>\n",
       "      <td>2025-02-23 01:00:00</td>\n",
       "      <td>30.07</td>\n",
       "      <td>-0.4666</td>\n",
       "      <td>56</td>\n",
       "    </tr>\n",
       "    <tr>\n",
       "      <th>2</th>\n",
       "      <td>2025-02-23 02:00:00</td>\n",
       "      <td>29.94</td>\n",
       "      <td>-0.5875</td>\n",
       "      <td>56</td>\n",
       "    </tr>\n",
       "    <tr>\n",
       "      <th>3</th>\n",
       "      <td>2025-02-23 03:00:00</td>\n",
       "      <td>29.94</td>\n",
       "      <td>-0.8083</td>\n",
       "      <td>57</td>\n",
       "    </tr>\n",
       "    <tr>\n",
       "      <th>4</th>\n",
       "      <td>2025-02-23 04:00:00</td>\n",
       "      <td>29.98</td>\n",
       "      <td>-0.9916</td>\n",
       "      <td>57</td>\n",
       "    </tr>\n",
       "    <tr>\n",
       "      <th>...</th>\n",
       "      <td>...</td>\n",
       "      <td>...</td>\n",
       "      <td>...</td>\n",
       "      <td>...</td>\n",
       "    </tr>\n",
       "    <tr>\n",
       "      <th>1674</th>\n",
       "      <td>2025-05-03 19:00:00</td>\n",
       "      <td>37.02</td>\n",
       "      <td>22.2541</td>\n",
       "      <td>54</td>\n",
       "    </tr>\n",
       "    <tr>\n",
       "      <th>1675</th>\n",
       "      <td>2025-05-03 20:00:00</td>\n",
       "      <td>41.75</td>\n",
       "      <td>21.2708</td>\n",
       "      <td>57</td>\n",
       "    </tr>\n",
       "    <tr>\n",
       "      <th>1676</th>\n",
       "      <td>2025-05-03 21:00:00</td>\n",
       "      <td>37.85</td>\n",
       "      <td>20.2083</td>\n",
       "      <td>59</td>\n",
       "    </tr>\n",
       "    <tr>\n",
       "      <th>1677</th>\n",
       "      <td>2025-05-03 22:00:00</td>\n",
       "      <td>33.57</td>\n",
       "      <td>19.4999</td>\n",
       "      <td>60</td>\n",
       "    </tr>\n",
       "    <tr>\n",
       "      <th>1678</th>\n",
       "      <td>2025-05-03 23:00:00</td>\n",
       "      <td>32.25</td>\n",
       "      <td>19.0416</td>\n",
       "      <td>61</td>\n",
       "    </tr>\n",
       "  </tbody>\n",
       "</table>\n",
       "<p>1679 rows × 4 columns</p>\n",
       "</div>"
      ]
     },
     "execution_count": 17,
     "metadata": {},
     "output_type": "execute_result"
    }
   ],
   "execution_count": 17
  },
  {
   "metadata": {
    "ExecuteTime": {
     "end_time": "2025-05-15T12:31:23.107958Z",
     "start_time": "2025-05-15T12:31:23.103555Z"
    }
   },
   "cell_type": "code",
   "source": "",
   "id": "daf97fa0bfa5d308",
   "outputs": [],
   "execution_count": 124
  },
  {
   "metadata": {
    "ExecuteTime": {
     "end_time": "2025-05-16T18:40:03.827170Z",
     "start_time": "2025-05-16T18:40:03.817466Z"
    }
   },
   "cell_type": "code",
   "source": [
    "import numpy as np\n",
    "\n",
    "df[\"Hour.Of.Day.X\"] = np.sin(2 * np.pi * df[\"datetime\"].dt.hour / 24)\n",
    "df[\"Hour.Of.Day.Y\"] = np.cos(2 * np.pi * df[\"datetime\"].dt.hour / 24)"
   ],
   "id": "adf826b312c83786",
   "outputs": [],
   "execution_count": 6
  },
  {
   "metadata": {
    "ExecuteTime": {
     "end_time": "2025-05-16T18:40:05.708143Z",
     "start_time": "2025-05-16T18:40:05.703023Z"
    }
   },
   "cell_type": "code",
   "source": "df.set_index('datetime', inplace=True)",
   "id": "5a424d48cacf6622",
   "outputs": [],
   "execution_count": 7
  },
  {
   "metadata": {},
   "cell_type": "markdown",
   "source": "Az Open Meteo API miatt csak feb 23-tól márc 03-ig van adatom.",
   "id": "921daa4e8ece8dff"
  },
  {
   "metadata": {
    "ExecuteTime": {
     "end_time": "2025-05-16T18:40:07.448931Z",
     "start_time": "2025-05-16T18:40:07.439814Z"
    }
   },
   "cell_type": "code",
   "source": [
    "total_len = len(df)\n",
    "train_end = int(0.7 * total_len)\n",
    "val_end = train_end + int(0.15 * total_len)\n",
    "\n",
    "# Split into train, val, and test\n",
    "df_train = df[:train_end]\n",
    "df_val = df[train_end:val_end]\n",
    "df_test = df[val_end:]\n",
    "\n",
    "# Optional: Print lengths to verify\n",
    "print(f\"Train: {len(df_train)}, Validation: {len(df_val)}, Test: {len(df_test)}\")\n",
    "print(df_train.index.min())\n",
    "print(df_train.index.max())\n",
    "\n",
    "print(df_val.index.min())\n",
    "print(df_val.index.max())\n",
    "\n",
    "print(df_test.index.min())\n",
    "print(df_test.index.max())\n"
   ],
   "id": "d597deb8852ae0ab",
   "outputs": [
    {
     "name": "stdout",
     "output_type": "stream",
     "text": [
      "Train: 1175, Validation: 251, Test: 253\n",
      "2025-02-23 00:00:00\n",
      "2025-04-12 23:00:00\n",
      "2025-04-13 00:00:00\n",
      "2025-04-23 10:00:00\n",
      "2025-04-23 11:00:00\n",
      "2025-05-03 23:00:00\n"
     ]
    }
   ],
   "execution_count": 8
  },
  {
   "metadata": {
    "ExecuteTime": {
     "end_time": "2025-05-15T14:14:28.359028Z",
     "start_time": "2025-05-15T14:14:28.340860Z"
    }
   },
   "cell_type": "code",
   "source": "df_train",
   "id": "390e9d794e94d5f7",
   "outputs": [
    {
     "data": {
      "text/plain": [
       "                    dam_price temperature  humidity  Hour.Of.Day.X  \\\n",
       "datetime                                                             \n",
       "2025-02-23 00:00:00     29.96     -0.3458        56       0.000000   \n",
       "2025-02-23 01:00:00     30.07     -0.4666        56       0.258819   \n",
       "2025-02-23 02:00:00     29.94     -0.5875        56       0.500000   \n",
       "2025-02-23 03:00:00     29.94     -0.8083        57       0.707107   \n",
       "2025-02-23 04:00:00     29.98     -0.9916        57       0.866025   \n",
       "...                       ...         ...       ...            ...   \n",
       "2025-04-12 19:00:00     72.82     11.9458        66      -0.965926   \n",
       "2025-04-12 20:00:00     31.69     10.9500        70      -0.866025   \n",
       "2025-04-12 21:00:00     30.53     10.0708        72      -0.707107   \n",
       "2025-04-12 22:00:00     29.23      9.3999        74      -0.500000   \n",
       "2025-04-12 23:00:00     28.76      8.9083        76      -0.258819   \n",
       "\n",
       "                     Hour.Of.Day.Y  \n",
       "datetime                            \n",
       "2025-02-23 00:00:00       1.000000  \n",
       "2025-02-23 01:00:00       0.965926  \n",
       "2025-02-23 02:00:00       0.866025  \n",
       "2025-02-23 03:00:00       0.707107  \n",
       "2025-02-23 04:00:00       0.500000  \n",
       "...                            ...  \n",
       "2025-04-12 19:00:00       0.258819  \n",
       "2025-04-12 20:00:00       0.500000  \n",
       "2025-04-12 21:00:00       0.707107  \n",
       "2025-04-12 22:00:00       0.866025  \n",
       "2025-04-12 23:00:00       0.965926  \n",
       "\n",
       "[1175 rows x 5 columns]"
      ],
      "text/html": [
       "<div>\n",
       "<style scoped>\n",
       "    .dataframe tbody tr th:only-of-type {\n",
       "        vertical-align: middle;\n",
       "    }\n",
       "\n",
       "    .dataframe tbody tr th {\n",
       "        vertical-align: top;\n",
       "    }\n",
       "\n",
       "    .dataframe thead th {\n",
       "        text-align: right;\n",
       "    }\n",
       "</style>\n",
       "<table border=\"1\" class=\"dataframe\">\n",
       "  <thead>\n",
       "    <tr style=\"text-align: right;\">\n",
       "      <th></th>\n",
       "      <th>dam_price</th>\n",
       "      <th>temperature</th>\n",
       "      <th>humidity</th>\n",
       "      <th>Hour.Of.Day.X</th>\n",
       "      <th>Hour.Of.Day.Y</th>\n",
       "    </tr>\n",
       "    <tr>\n",
       "      <th>datetime</th>\n",
       "      <th></th>\n",
       "      <th></th>\n",
       "      <th></th>\n",
       "      <th></th>\n",
       "      <th></th>\n",
       "    </tr>\n",
       "  </thead>\n",
       "  <tbody>\n",
       "    <tr>\n",
       "      <th>2025-02-23 00:00:00</th>\n",
       "      <td>29.96</td>\n",
       "      <td>-0.3458</td>\n",
       "      <td>56</td>\n",
       "      <td>0.000000</td>\n",
       "      <td>1.000000</td>\n",
       "    </tr>\n",
       "    <tr>\n",
       "      <th>2025-02-23 01:00:00</th>\n",
       "      <td>30.07</td>\n",
       "      <td>-0.4666</td>\n",
       "      <td>56</td>\n",
       "      <td>0.258819</td>\n",
       "      <td>0.965926</td>\n",
       "    </tr>\n",
       "    <tr>\n",
       "      <th>2025-02-23 02:00:00</th>\n",
       "      <td>29.94</td>\n",
       "      <td>-0.5875</td>\n",
       "      <td>56</td>\n",
       "      <td>0.500000</td>\n",
       "      <td>0.866025</td>\n",
       "    </tr>\n",
       "    <tr>\n",
       "      <th>2025-02-23 03:00:00</th>\n",
       "      <td>29.94</td>\n",
       "      <td>-0.8083</td>\n",
       "      <td>57</td>\n",
       "      <td>0.707107</td>\n",
       "      <td>0.707107</td>\n",
       "    </tr>\n",
       "    <tr>\n",
       "      <th>2025-02-23 04:00:00</th>\n",
       "      <td>29.98</td>\n",
       "      <td>-0.9916</td>\n",
       "      <td>57</td>\n",
       "      <td>0.866025</td>\n",
       "      <td>0.500000</td>\n",
       "    </tr>\n",
       "    <tr>\n",
       "      <th>...</th>\n",
       "      <td>...</td>\n",
       "      <td>...</td>\n",
       "      <td>...</td>\n",
       "      <td>...</td>\n",
       "      <td>...</td>\n",
       "    </tr>\n",
       "    <tr>\n",
       "      <th>2025-04-12 19:00:00</th>\n",
       "      <td>72.82</td>\n",
       "      <td>11.9458</td>\n",
       "      <td>66</td>\n",
       "      <td>-0.965926</td>\n",
       "      <td>0.258819</td>\n",
       "    </tr>\n",
       "    <tr>\n",
       "      <th>2025-04-12 20:00:00</th>\n",
       "      <td>31.69</td>\n",
       "      <td>10.9500</td>\n",
       "      <td>70</td>\n",
       "      <td>-0.866025</td>\n",
       "      <td>0.500000</td>\n",
       "    </tr>\n",
       "    <tr>\n",
       "      <th>2025-04-12 21:00:00</th>\n",
       "      <td>30.53</td>\n",
       "      <td>10.0708</td>\n",
       "      <td>72</td>\n",
       "      <td>-0.707107</td>\n",
       "      <td>0.707107</td>\n",
       "    </tr>\n",
       "    <tr>\n",
       "      <th>2025-04-12 22:00:00</th>\n",
       "      <td>29.23</td>\n",
       "      <td>9.3999</td>\n",
       "      <td>74</td>\n",
       "      <td>-0.500000</td>\n",
       "      <td>0.866025</td>\n",
       "    </tr>\n",
       "    <tr>\n",
       "      <th>2025-04-12 23:00:00</th>\n",
       "      <td>28.76</td>\n",
       "      <td>8.9083</td>\n",
       "      <td>76</td>\n",
       "      <td>-0.258819</td>\n",
       "      <td>0.965926</td>\n",
       "    </tr>\n",
       "  </tbody>\n",
       "</table>\n",
       "<p>1175 rows × 5 columns</p>\n",
       "</div>"
      ]
     },
     "execution_count": 41,
     "metadata": {},
     "output_type": "execute_result"
    }
   ],
   "execution_count": 41
  },
  {
   "metadata": {
    "ExecuteTime": {
     "end_time": "2025-05-16T18:52:25.930910Z",
     "start_time": "2025-05-16T18:52:25.913484Z"
    }
   },
   "cell_type": "code",
   "source": [
    "from sklearn.preprocessing import StandardScaler\n",
    "\n",
    "scaler_input = StandardScaler()\n",
    "scaler_output = StandardScaler()\n",
    "\n",
    "X_train = df_train.drop(columns=[\"dam_price\"])\n",
    "y_train = df_train[[\"dam_price\"]]\n",
    "\n",
    "X_valid = df_val.drop(columns=[\"dam_price\"])\n",
    "y_valid = df_val[[\"dam_price\"]]\n",
    "\n",
    "X_test = df_test.drop(columns=[\"dam_price\"])\n",
    "y_test = df_test[[\"dam_price\"]]\n",
    "\n",
    "scaled_train = scaler_input.fit_transform(X_train)\n",
    "target_train = scaler_output.fit_transform(y_train)\n",
    "scaled_valid = scaler_input.transform(X_valid)\n",
    "target_valid = scaler_output.transform(y_valid)\n",
    "scaled_test = scaler_input.transform(X_test)\n",
    "target_test = scaler_output.transform(y_test)\n"
   ],
   "id": "54d5025d447025c9",
   "outputs": [],
   "execution_count": 13
  },
  {
   "metadata": {
    "ExecuteTime": {
     "end_time": "2025-05-16T18:52:28.150743Z",
     "start_time": "2025-05-16T18:52:28.144600Z"
    }
   },
   "cell_type": "code",
   "source": [
    "def process_Xy(raw_X: np.array, raw_y: np.array, lookback: int) -> np.array:\n",
    "        X = np.empty(shape=(raw_X.shape[0] - lookback, lookback , raw_X.shape[1]), dtype=np.float32)\n",
    "        y = np.empty(shape=(raw_y.shape[0] - lookback), dtype=np.float32)\n",
    "\n",
    "        target_index = 0\n",
    "        for i in range(lookback, raw_X.shape[0]):\n",
    "            X[target_index] = raw_X[i - lookback : i]\n",
    "            y[target_index] = raw_y[i]\n",
    "            target_index += 1\n",
    "\n",
    "        return X.copy(), y.copy()"
   ],
   "id": "2b5bd398d5542ef1",
   "outputs": [],
   "execution_count": 14
  },
  {
   "metadata": {
    "ExecuteTime": {
     "end_time": "2025-05-16T18:52:29.717464Z",
     "start_time": "2025-05-16T18:52:29.707469Z"
    }
   },
   "cell_type": "code",
   "source": [
    "lookback = 10\n",
    "train_X, train_y = process_Xy(scaled_train, target_train, lookback=lookback)\n",
    "valid_X, valid_y = process_Xy(scaled_valid, target_valid, lookback=lookback)\n",
    "test_X, test_y = process_Xy(scaled_test, target_test, lookback=lookback)"
   ],
   "id": "4213e0c61e9c7878",
   "outputs": [
    {
     "name": "stderr",
     "output_type": "stream",
     "text": [
      "C:\\Users\\Bence\\AppData\\Local\\Temp\\ipykernel_6188\\867110758.py:8: DeprecationWarning: Conversion of an array with ndim > 0 to a scalar is deprecated, and will error in future. Ensure you extract a single element from your array before performing this operation. (Deprecated NumPy 1.25.)\n",
      "  y[target_index] = raw_y[i]\n"
     ]
    }
   ],
   "execution_count": 15
  },
  {
   "metadata": {
    "ExecuteTime": {
     "end_time": "2025-05-16T18:52:41.278531Z",
     "start_time": "2025-05-16T18:52:32.066607Z"
    }
   },
   "cell_type": "code",
   "source": [
    "from tensorflow import keras\n",
    "from tensorflow.keras import layers, activations\n",
    "from keras.callbacks import EarlyStopping, ModelCheckpoint\n",
    "\n",
    "model = keras.Sequential(\n",
    "    [\n",
    "        layers.LSTM(16, activation=\"relu\", input_shape = train_X.shape[1:]),\n",
    "        layers.Dense(1),\n",
    "    ]\n",
    ")\n",
    "model.compile(loss='MeanSquaredError', optimizer='Adam')\n",
    "callbacks = [EarlyStopping(monitor=\"val_loss\", patience=10)]"
   ],
   "id": "3594a219847c54b6",
   "outputs": [
    {
     "name": "stderr",
     "output_type": "stream",
     "text": [
      "C:\\Users\\Bence\\AppData\\Local\\Programs\\Python\\Python312\\Lib\\site-packages\\keras\\src\\layers\\rnn\\rnn.py:200: UserWarning: Do not pass an `input_shape`/`input_dim` argument to a layer. When using Sequential models, prefer using an `Input(shape)` object as the first layer in the model instead.\n",
      "  super().__init__(**kwargs)\n"
     ]
    }
   ],
   "execution_count": 16
  },
  {
   "metadata": {
    "ExecuteTime": {
     "end_time": "2025-05-16T18:52:49.778131Z",
     "start_time": "2025-05-16T18:52:44.475772Z"
    }
   },
   "cell_type": "code",
   "source": [
    "history = model.fit(\n",
    "            train_X,\n",
    "            train_y,\n",
    "            validation_data=(valid_X, valid_y),\n",
    "            batch_size=16,\n",
    "            epochs=100,\n",
    "            callbacks=callbacks,\n",
    "            shuffle=True,\n",
    "            verbose=True,\n",
    "        )"
   ],
   "id": "2a0b29a776bffaf1",
   "outputs": [
    {
     "name": "stdout",
     "output_type": "stream",
     "text": [
      "Epoch 1/100\n",
      "\u001B[1m73/73\u001B[0m \u001B[32m━━━━━━━━━━━━━━━━━━━━\u001B[0m\u001B[37m\u001B[0m \u001B[1m2s\u001B[0m 7ms/step - loss: 0.9994 - val_loss: 0.6332\n",
      "Epoch 2/100\n",
      "\u001B[1m73/73\u001B[0m \u001B[32m━━━━━━━━━━━━━━━━━━━━\u001B[0m\u001B[37m\u001B[0m \u001B[1m0s\u001B[0m 4ms/step - loss: 0.9628 - val_loss: 0.8041\n",
      "Epoch 3/100\n",
      "\u001B[1m73/73\u001B[0m \u001B[32m━━━━━━━━━━━━━━━━━━━━\u001B[0m\u001B[37m\u001B[0m \u001B[1m0s\u001B[0m 4ms/step - loss: 0.7446 - val_loss: 1.0543\n",
      "Epoch 4/100\n",
      "\u001B[1m73/73\u001B[0m \u001B[32m━━━━━━━━━━━━━━━━━━━━\u001B[0m\u001B[37m\u001B[0m \u001B[1m0s\u001B[0m 4ms/step - loss: 0.7686 - val_loss: 1.5066\n",
      "Epoch 5/100\n",
      "\u001B[1m73/73\u001B[0m \u001B[32m━━━━━━━━━━━━━━━━━━━━\u001B[0m\u001B[37m\u001B[0m \u001B[1m0s\u001B[0m 4ms/step - loss: 0.6515 - val_loss: 1.7666\n",
      "Epoch 6/100\n",
      "\u001B[1m73/73\u001B[0m \u001B[32m━━━━━━━━━━━━━━━━━━━━\u001B[0m\u001B[37m\u001B[0m \u001B[1m0s\u001B[0m 4ms/step - loss: 0.7651 - val_loss: 2.7975\n",
      "Epoch 7/100\n",
      "\u001B[1m73/73\u001B[0m \u001B[32m━━━━━━━━━━━━━━━━━━━━\u001B[0m\u001B[37m\u001B[0m \u001B[1m0s\u001B[0m 4ms/step - loss: 0.7309 - val_loss: 3.8005\n",
      "Epoch 8/100\n",
      "\u001B[1m73/73\u001B[0m \u001B[32m━━━━━━━━━━━━━━━━━━━━\u001B[0m\u001B[37m\u001B[0m \u001B[1m0s\u001B[0m 4ms/step - loss: 0.6792 - val_loss: 5.3544\n",
      "Epoch 9/100\n",
      "\u001B[1m73/73\u001B[0m \u001B[32m━━━━━━━━━━━━━━━━━━━━\u001B[0m\u001B[37m\u001B[0m \u001B[1m0s\u001B[0m 4ms/step - loss: 0.6558 - val_loss: 5.7678\n",
      "Epoch 10/100\n",
      "\u001B[1m73/73\u001B[0m \u001B[32m━━━━━━━━━━━━━━━━━━━━\u001B[0m\u001B[37m\u001B[0m \u001B[1m0s\u001B[0m 4ms/step - loss: 0.6162 - val_loss: 6.9674\n",
      "Epoch 11/100\n",
      "\u001B[1m73/73\u001B[0m \u001B[32m━━━━━━━━━━━━━━━━━━━━\u001B[0m\u001B[37m\u001B[0m \u001B[1m0s\u001B[0m 4ms/step - loss: 0.5922 - val_loss: 8.8016\n"
     ]
    }
   ],
   "execution_count": 17
  },
  {
   "metadata": {
    "ExecuteTime": {
     "end_time": "2025-05-16T18:52:59.941213Z",
     "start_time": "2025-05-16T18:52:59.730039Z"
    }
   },
   "cell_type": "code",
   "source": [
    "import matplotlib.pyplot as plt\n",
    "\n",
    "plt.plot(history.history['loss'], label='Training Loss')\n",
    "plt.plot(history.history['val_loss'], label='Validation Loss')\n",
    "plt.title('Model Training and Validation Loss')\n",
    "plt.xlabel('Epochs')\n",
    "plt.ylabel('Loss')\n",
    "plt.legend()\n",
    "plt.show()"
   ],
   "id": "9869bfd7d4ee4240",
   "outputs": [
    {
     "data": {
      "text/plain": [
       "<Figure size 640x480 with 1 Axes>"
      ],
      "image/png": "[encoded data removed]"
     },
     "metadata": {},
     "output_type": "display_data"
    }
   ],
   "execution_count": 18
  },
  {
   "metadata": {
    "ExecuteTime": {
     "end_time": "2025-05-16T18:53:16.882750Z",
     "start_time": "2025-05-16T18:53:16.379918Z"
    }
   },
   "cell_type": "code",
   "source": [
    "pred = model.predict(test_X)\n",
    "plt.figure(figsize=(10, 6))\n",
    "plt.plot(df_test[\"dam_price\"], label=\"Real\", color='blue')\n",
    "plt.plot(pd.DataFrame(index=df_test.index[lookback:], data=scaler_output.inverse_transform(pred)), label=\"Predicted\", color='red')\n",
    "plt.xticks(rotation=45)\n",
    "plt.title('Actual vs Predicted DAM Price by Temperature and Humidity')\n",
    "plt.xlabel('Date')\n",
    "plt.ylabel('DAM Price')\n",
    "plt.legend()\n",
    "plt.show()"
   ],
   "id": "dc24e3f9e3d733aa",
   "outputs": [
    {
     "name": "stdout",
     "output_type": "stream",
     "text": [
      "\u001B[1m8/8\u001B[0m \u001B[32m━━━━━━━━━━━━━━━━━━━━\u001B[0m\u001B[37m\u001B[0m \u001B[1m0s\u001B[0m 21ms/step\n"
     ]
    },
    {
     "data": {
      "text/plain": [
       "<Figure size 1000x600 with 1 Axes>"
      ],
      "image/png": "[encoded data removed]"
     },
     "metadata": {},
     "output_type": "display_data"
    }
   ],
   "execution_count": 19
  },
  {
   "metadata": {},
   "cell_type": "markdown",
   "source": "Mivel véges adatom volt, és több paraméterrel is kellett volna dolgoznom ezért az eredmény nem lett annyira jó, de így is látható, hogy valamelyest a trendeket próbálta lekövetni.\n",
   "id": "bad8750e13850737"
  }
 ],
 "metadata": {
  "kernelspec": {
   "display_name": "Python 3",
   "language": "python",
   "name": "python3"
  },
  "language_info": {
   "codemirror_mode": {
    "name": "ipython",
    "version": 2
   },
   "file_extension": ".py",
   "mimetype": "text/x-python",
   "name": "python",
   "nbconvert_exporter": "python",
   "pygments_lexer": "ipython2",
   "version": "2.7.6"
  }
 },
 "nbformat": 4,
 "nbformat_minor": 5
}
